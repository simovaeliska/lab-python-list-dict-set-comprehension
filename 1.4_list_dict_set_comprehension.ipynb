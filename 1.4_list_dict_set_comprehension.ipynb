{
 "cells": [
  {
   "cell_type": "markdown",
   "id": "ba169949",
   "metadata": {
    "id": "ba169949",
    "toc": true
   },
   "source": [
    "<h1>Table of Contents<span class=\"tocSkip\"></span></h1>\n",
    "<div class=\"toc\"><ul class=\"toc-item\"><li><span><a href=\"#List-Comprehensions\" data-toc-modified-id=\"List-Comprehensions-1\"><span class=\"toc-item-num\">1&nbsp;&nbsp;</span>List Comprehensions</a></span><ul class=\"toc-item\"><li><span><a href=\"#Note\" data-toc-modified-id=\"Note-1.1\"><span class=\"toc-item-num\">1.1&nbsp;&nbsp;</span>Note</a></span></li><li><span><a href=\"#💡--Check-for-understanding\" data-toc-modified-id=\"💡--Check-for-understanding-1.2\"><span class=\"toc-item-num\">1.2&nbsp;&nbsp;</span>💡  Check for understanding</a></span></li><li><span><a href=\"#Conditions-(we-put-IF-in-the-comprehension)\" data-toc-modified-id=\"Conditions-(we-put-IF-in-the-comprehension)-1.3\"><span class=\"toc-item-num\">1.3&nbsp;&nbsp;</span>Conditions (we put IF in the comprehension)</a></span><ul class=\"toc-item\"><li><span><a href=\"#💡-Check-for-understanding\" data-toc-modified-id=\"💡-Check-for-understanding-1.3.1\"><span class=\"toc-item-num\">1.3.1&nbsp;&nbsp;</span>💡 Check for understanding</a></span></li></ul></li><li><span><a href=\"#If-/-Else-in-comprehension\" data-toc-modified-id=\"If-/-Else-in-comprehension-1.4\"><span class=\"toc-item-num\">1.4&nbsp;&nbsp;</span>If / Else in comprehension</a></span></li></ul></li><li><span><a href=\"#Dictionary-Comprehension\" data-toc-modified-id=\"Dictionary-Comprehension-2\"><span class=\"toc-item-num\">2&nbsp;&nbsp;</span>Dictionary Comprehension</a></span><ul class=\"toc-item\"><li><span><a href=\"#💡-Check-for-understanding\" data-toc-modified-id=\"💡-Check-for-understanding-2.1\"><span class=\"toc-item-num\">2.1&nbsp;&nbsp;</span>💡 Check for understanding</a></span></li></ul></li><li><span><a href=\"#Set-Comprehension\" data-toc-modified-id=\"Set-Comprehension-3\"><span class=\"toc-item-num\">3&nbsp;&nbsp;</span>Set Comprehension</a></span><ul class=\"toc-item\"><li><span><a href=\"#💡-Check-for-understanding\" data-toc-modified-id=\"💡-Check-for-understanding-3.1\"><span class=\"toc-item-num\">3.1&nbsp;&nbsp;</span>💡 Check for understanding</a></span></li></ul></li><li><span><a href=\"#Summary\" data-toc-modified-id=\"Summary-4\"><span class=\"toc-item-num\">4&nbsp;&nbsp;</span>Summary</a></span></li><li><span><a href=\"#Extra\" data-toc-modified-id=\"Extra-5\"><span class=\"toc-item-num\">5&nbsp;&nbsp;</span>Extra</a></span><ul class=\"toc-item\"><li><span><a href=\"#Nested-list-comprehensions\" data-toc-modified-id=\"Nested-list-comprehensions-5.1\"><span class=\"toc-item-num\">5.1&nbsp;&nbsp;</span>Nested list comprehensions</a></span></li><li><span><a href=\"#Dict-comprehension-from-two-lists\" data-toc-modified-id=\"Dict-comprehension-from-two-lists-5.2\"><span class=\"toc-item-num\">5.2&nbsp;&nbsp;</span>Dict comprehension from two lists</a></span></li></ul></li></ul></div>"
   ]
  },
  {
   "cell_type": "markdown",
   "id": "e1f3c60c-6a4c-4420-ab87-c2f6e0bd93ed",
   "metadata": {
    "id": "e1f3c60c-6a4c-4420-ab87-c2f6e0bd93ed",
    "lang": "en"
   },
   "source": [
    "# List Comprehensions"
   ]
  },
  {
   "cell_type": "markdown",
   "id": "41722faf-5aed-40a7-a665-e7b08ac83f23",
   "metadata": {
    "id": "41722faf-5aed-40a7-a665-e7b08ac83f23"
   },
   "source": [
    "![elgif](https://media.giphy.com/media/8vZY0QZZjJZqmfResk/giphy.gif)"
   ]
  },
  {
   "cell_type": "markdown",
   "id": "1f2388fe-f609-4afb-98f7-5a7084d0d9b6",
   "metadata": {
    "id": "1f2388fe-f609-4afb-98f7-5a7084d0d9b6"
   },
   "source": [
    "List comprehension is an easy to read, compact, and elegant way of **creating a list from any existing iterable object**.\n",
    "\n",
    "List comprehension is a single line of code that you write inside the square brackets. It has three components:\n",
    "\n",
    "- For loop\n",
    "- Condition and expression (optional)\n",
    "- Output\n"
   ]
  },
  {
   "cell_type": "markdown",
   "id": "456a017a-22bb-44ba-9c74-b25935d0d80e",
   "metadata": {
    "id": "456a017a-22bb-44ba-9c74-b25935d0d80e"
   },
   "source": [
    "![imagen_compr](https://stsewd.dev/charla-comprension-de-listas/img/listComprehensions.gif)"
   ]
  },
  {
   "cell_type": "markdown",
   "id": "f4e68458-5892-4ef8-8b7b-6d0e9d1ea311",
   "metadata": {
    "id": "f4e68458-5892-4ef8-8b7b-6d0e9d1ea311",
    "lang": "en"
   },
   "source": [
    "Let's look at an example, we'll leave the optional predicate (if or if/else for later).\n",
    "\n",
    "If we wanted to have a list like the following one, but with all the words in uppercase using a loop, we would do, without list comprehension:"
   ]
  },
  {
   "cell_type": "code",
   "execution_count": 6,
   "id": "velvet-madonna",
   "metadata": {
    "id": "velvet-madonna"
   },
   "outputs": [
    {
     "data": {
      "text/plain": [
       "['BARCELONA', 'MADRID', 'GIRONA', 'MURCIA']"
      ]
     },
     "execution_count": 6,
     "metadata": {},
     "output_type": "execute_result"
    }
   ],
   "source": [
    "list_of_words = [\"barcelona\", \"madrid\", \"girona\", \"murcia\"]\n",
    "new_list_words_uppercase = []\n",
    "\n",
    "for city in list_of_words: \n",
    "    new_list_words_uppercase.append(city.upper())\n",
    "    new_list_words_uppercase\n",
    "new_list_words_uppercase\n",
    "\n",
    "#if I have only one output, I dont need to use print()"
   ]
  },
  {
   "cell_type": "markdown",
   "id": "71cbc6a3-d126-4c9e-9f8f-09f59388cf41",
   "metadata": {
    "id": "71cbc6a3-d126-4c9e-9f8f-09f59388cf41",
    "lang": "en"
   },
   "source": [
    "How can we do it with list comprehension?"
   ]
  },
  {
   "cell_type": "code",
   "execution_count": 8,
   "id": "c1754a5a",
   "metadata": {
    "id": "c1754a5a"
   },
   "outputs": [
    {
     "data": {
      "text/plain": [
       "['BARCELONA', 'MADRID', 'GIRONA', 'MURCIA']"
      ]
     },
     "execution_count": 8,
     "metadata": {},
     "output_type": "execute_result"
    }
   ],
   "source": [
    "# comprehension we never place colon\n",
    "\n",
    "compl_list = [city.upper() for city in list_of_words]\n",
    "compl_list"
   ]
  },
  {
   "cell_type": "code",
   "execution_count": null,
   "id": "53148645-4c1c-48a1-b5db-8706497d7a7b",
   "metadata": {},
   "outputs": [],
   "source": []
  },
  {
   "cell_type": "markdown",
   "id": "d95d40b9-3d51-404d-ab5a-f85045cb49c1",
   "metadata": {
    "id": "d95d40b9-3d51-404d-ab5a-f85045cb49c1",
    "lang": "en"
   },
   "source": [
    "One more example:\n",
    "\n",
    "We want a list containing the squares of the numbers 1 to 10."
   ]
  },
  {
   "cell_type": "code",
   "execution_count": 12,
   "id": "e3bc67b9",
   "metadata": {
    "id": "e3bc67b9"
   },
   "outputs": [
    {
     "data": {
      "text/plain": [
       "[1, 4, 9, 16, 25, 36, 49, 64, 81, 100]"
      ]
     },
     "execution_count": 12,
     "metadata": {},
     "output_type": "execute_result"
    }
   ],
   "source": [
    "# Regular loop\n",
    "\n",
    "new_list = []\n",
    "for number in range(1,11):\n",
    "    new_list.append(number ** 2)\n",
    "new_list"
   ]
  },
  {
   "cell_type": "code",
   "execution_count": 16,
   "id": "d199759b-b223-45a6-89b6-92c26540f3aa",
   "metadata": {
    "id": "e3bc67b9"
   },
   "outputs": [
    {
     "data": {
      "text/plain": [
       "[1, 4, 9, 16, 25, 36, 49, 64, 81, 100]"
      ]
     },
     "execution_count": 16,
     "metadata": {},
     "output_type": "execute_result"
    }
   ],
   "source": [
    "# list comprehension\n",
    "\n",
    "squares = [number ** 2 for number in range(1,11)]\n",
    "squares"
   ]
  },
  {
   "cell_type": "markdown",
   "id": "23be3165-a1c5-4dd9-a304-3e6138318860",
   "metadata": {
    "id": "23be3165-a1c5-4dd9-a304-3e6138318860",
    "lang": "en"
   },
   "source": [
    "## Note\n",
    "\n",
    "List comprehension in Python offers a more concise way to generate lists **without** the need for **explicitly creating an empty list** to begin with and using the **`.append`** method."
   ]
  },
  {
   "cell_type": "markdown",
   "id": "339c9c37-e281-4dcb-94dd-8f44db633bc8",
   "metadata": {
    "id": "339c9c37-e281-4dcb-94dd-8f44db633bc8",
    "lang": "en"
   },
   "source": [
    "## 💡  Check for understanding\n",
    "\n",
    "Create a new list, substituting \"e's\" for \"a's\" in each word in the original `words` list."
   ]
  },
  {
   "cell_type": "code",
   "execution_count": 29,
   "id": "c8c45c56",
   "metadata": {
    "id": "c8c45c56"
   },
   "outputs": [
    {
     "name": "stdout",
     "output_type": "stream",
     "text": [
      "['motharloda', 'mad', 'canada', 'aarthquaka']\n"
     ]
    },
    {
     "data": {
      "text/plain": [
       "['barcalona', 'madrid', 'garona']"
      ]
     },
     "execution_count": 29,
     "metadata": {},
     "output_type": "execute_result"
    }
   ],
   "source": [
    "list_of_words = [\"motherlode\", \"med\", \"canada\", \"earthquake\"]\n",
    "\n",
    "sub_words = [word.replace(\"e\", \"a\") for word in list_of_words]\n",
    "print(sub_words)\n",
    "\n",
    "list_of_cities = [\"barcelona\", \"madrid\", \"gerona\"]\n",
    "new_cities = [city.replace(\"e\", \"a\") for city in list_of_cities]\n",
    "new_cities"
   ]
  },
  {
   "cell_type": "markdown",
   "id": "138d7541-41bf-436c-bffb-e4e5a510daa6",
   "metadata": {
    "id": "138d7541-41bf-436c-bffb-e4e5a510daa6",
    "lang": "en"
   },
   "source": [
    "## Conditions (we put IF in the comprehension)"
   ]
  },
  {
   "cell_type": "markdown",
   "id": "a031ef24-f4e4-4f26-8f72-f194b9753142",
   "metadata": {
    "id": "a031ef24-f4e4-4f26-8f72-f194b9753142"
   },
   "source": [
    "In list comprehension, you can use the `if` and `else` syntax to include conditional statements for filtering and modifying elements while creating a new list. This allows you to conditionally include elements based on certain criteria.\n",
    "\n",
    "Let's look at just including `if` statement."
   ]
  },
  {
   "cell_type": "markdown",
   "id": "714b7bb9-4cad-47a4-97ca-0fcdb0c662ab",
   "metadata": {
    "id": "714b7bb9-4cad-47a4-97ca-0fcdb0c662ab"
   },
   "source": [
    "<img width=600 src=\"https://www.mrdbourke.com/content/images/2019/09/python-list-comprehension-article.png\">"
   ]
  },
  {
   "cell_type": "markdown",
   "id": "c420cf54-8049-402f-b4e7-8522f00d8d14",
   "metadata": {
    "id": "c420cf54-8049-402f-b4e7-8522f00d8d14"
   },
   "source": [
    "Let's create a list like the following one, but with all the **words** in uppercase using a loop (i.e. ignore the elements that are not strings)"
   ]
  },
  {
   "cell_type": "code",
   "execution_count": 31,
   "id": "36e710a5",
   "metadata": {
    "id": "36e710a5"
   },
   "outputs": [
    {
     "name": "stdout",
     "output_type": "stream",
     "text": [
      "['BARCELONA', 'MADRID', 'GERONA']\n"
     ]
    }
   ],
   "source": [
    "new_list = []\n",
    "for item in list_of_cities:\n",
    "    if type(item) == str:\n",
    "        new_list.append(item.upper())\n",
    "print(new_list)\n",
    "\n",
    "my_list = [item]"
   ]
  },
  {
   "cell_type": "markdown",
   "id": "1d655940-9346-4125-8c9e-53fa815cb89a",
   "metadata": {
    "id": "1d655940-9346-4125-8c9e-53fa815cb89a"
   },
   "source": [
    "Let's look at one more example.\n",
    "Let's create a list with the numbers from 0 to 9 that are even."
   ]
  },
  {
   "cell_type": "code",
   "execution_count": 37,
   "id": "4a564491",
   "metadata": {
    "id": "4a564491"
   },
   "outputs": [
    {
     "data": {
      "text/plain": [
       "[0, 1, 2, 3, 4, 5, 6, 7, 8, 9]"
      ]
     },
     "execution_count": 37,
     "metadata": {},
     "output_type": "execute_result"
    }
   ],
   "source": [
    "my_list = [x for x in range (0,10)]\n",
    "my_list"
   ]
  },
  {
   "cell_type": "markdown",
   "id": "df4b13d9-0df6-4c0c-b481-9689936f4585",
   "metadata": {
    "id": "df4b13d9-0df6-4c0c-b481-9689936f4585",
    "lang": "en"
   },
   "source": [
    "### 💡 Check for understanding\n",
    "\n",
    "We want a new list with words longer than 5 characters."
   ]
  },
  {
   "cell_type": "code",
   "execution_count": null,
   "id": "invalid-variation",
   "metadata": {
    "id": "invalid-variation"
   },
   "outputs": [],
   "source": [
    "list_of_words = ['barcelona', 'madrid', 'gerona', 'murcia']"
   ]
  },
  {
   "cell_type": "code",
   "execution_count": 120,
   "id": "1eb8bd68",
   "metadata": {
    "id": "1eb8bd68"
   },
   "outputs": [
    {
     "data": {
      "text/plain": [
       "['barcelona', 'madrid', 'gerona', 'murcia', 'BRATISLAVA']"
      ]
     },
     "execution_count": 120,
     "metadata": {},
     "output_type": "execute_result"
    }
   ],
   "source": [
    "list_of_words = ['barcelona', 'madrid', 'gerona', 'murcia', 'rome', \"BRATISLAVA\"]\n",
    "new_cities = [city for city in list_of_words if len(city)>5]\n",
    "new_cities"
   ]
  },
  {
   "cell_type": "markdown",
   "id": "de3bd144-3e49-497b-9840-e05d5e3fd80e",
   "metadata": {
    "id": "de3bd144-3e49-497b-9840-e05d5e3fd80e",
    "lang": "en"
   },
   "source": [
    "## If / Else in comprehension\n",
    "\n",
    "Let's look at the syntax when including an `else statement`, that is implemented if the condition is false."
   ]
  },
  {
   "cell_type": "markdown",
   "id": "fddaf8b8-f193-44ee-848f-bad9fb7dfcfe",
   "metadata": {
    "id": "fddaf8b8-f193-44ee-848f-bad9fb7dfcfe"
   },
   "source": [
    "```python\n",
    "new_list = [expression_if_true if condition else expression_if_false for item in original_list]\n",
    "```\n",
    "\n",
    "Explanation:\n",
    "- `new_list`: The resulting list created using list comprehension.\n",
    "- `expression_if_true`: The value to be included in the new list if the condition is true for the current item.\n",
    "- `condition`: The condition to be checked for each item in the original list.\n",
    "- `expression_if_false`: The value to be included in the new list if the condition is false for the current item.\n",
    "- `item`: The variable representing each element in the original list during iteration.\n"
   ]
  },
  {
   "cell_type": "markdown",
   "id": "360215d9-5849-4e39-b578-3a0bf1ceafe2",
   "metadata": {
    "id": "360215d9-5849-4e39-b578-3a0bf1ceafe2"
   },
   "source": [
    "In the next example, if the word is longer than 7 characters, we include it as it is in the new list. Otherwise, we just make it uppercase."
   ]
  },
  {
   "cell_type": "code",
   "execution_count": 80,
   "id": "1cd66f87",
   "metadata": {
    "id": "1cd66f87"
   },
   "outputs": [
    {
     "ename": "NameError",
     "evalue": "name 'original_list' is not defined",
     "output_type": "error",
     "traceback": [
      "\u001b[0;31m---------------------------------------------------------------------------\u001b[0m",
      "\u001b[0;31mNameError\u001b[0m                                 Traceback (most recent call last)",
      "Cell \u001b[0;32mIn[80], line 1\u001b[0m\n\u001b[0;32m----> 1\u001b[0m new_list \u001b[38;5;241m=\u001b[39m [expression_if_true \u001b[38;5;28;01mif\u001b[39;00m condition \u001b[38;5;28;01melse\u001b[39;00m expression_if_false \u001b[38;5;28;01mfor\u001b[39;00m item \u001b[38;5;129;01min\u001b[39;00m original_list]\n",
      "\u001b[0;31mNameError\u001b[0m: name 'original_list' is not defined"
     ]
    }
   ],
   "source": [
    "new_list = [expression_if_true if condition else expression_if_false for item in original_list]"
   ]
  },
  {
   "cell_type": "markdown",
   "id": "1ea1ad5c-e239-463b-a1a1-05946536157a",
   "metadata": {
    "id": "1ea1ad5c-e239-463b-a1a1-05946536157a"
   },
   "source": [
    "Another example: Converting Odd Numbers to Negative"
   ]
  },
  {
   "cell_type": "code",
   "execution_count": 92,
   "id": "51d6105c-82b9-4fce-854e-9813e9fa0c6b",
   "metadata": {
    "id": "51d6105c-82b9-4fce-854e-9813e9fa0c6b"
   },
   "outputs": [
    {
     "data": {
      "text/plain": [
       "[484, 576, 8100, 6400]"
      ]
     },
     "execution_count": 92,
     "metadata": {},
     "output_type": "execute_result"
    }
   ],
   "source": [
    "list_of_items = [22, 24, 90, 80]\n",
    "new_list = [item**2 if item % 2 == 0 else item + 2 for item in list_of_items]\n",
    "new_list\n",
    "\n",
    "#[process_item(item) if item % 2 == 0 else item for item in list_of_items]"
   ]
  },
  {
   "cell_type": "code",
   "execution_count": 122,
   "id": "8966865b-2ace-448c-b418-f27c95e5c9ea",
   "metadata": {
    "id": "51d6105c-82b9-4fce-854e-9813e9fa0c6b"
   },
   "outputs": [
    {
     "name": "stdout",
     "output_type": "stream",
     "text": [
      "[-1, 2, -3, 4, -5, 6, -7, 8, -9, 10]\n",
      "['barcelona', 'BRATISLAVA']\n"
     ]
    }
   ],
   "source": [
    "numbers = [1, 2, 3, 4, 5, 6, 7, 8, 9, 10]\n",
    "result = [num if num % 2 == 0 else -num for num in numbers]\n",
    "print(result)\n",
    "\n",
    "new_list = [city for city in list_of_words if len(city) > 7 if city.upper()]\n",
    "print(new_list)"
   ]
  },
  {
   "cell_type": "code",
   "execution_count": 98,
   "id": "aca0ff81-22e0-43e1-91e2-018dde469b9d",
   "metadata": {
    "id": "51d6105c-82b9-4fce-854e-9813e9fa0c6b"
   },
   "outputs": [
    {
     "data": {
      "text/plain": [
       "['barcelona', 'MADRID', 'GERONA', 'MURCIA', 'ROME']"
      ]
     },
     "execution_count": 98,
     "metadata": {},
     "output_type": "execute_result"
    }
   ],
   "source": [
    "new_list = []\n",
    "for city in list_of_words:\n",
    "    if len(city)>7:\n",
    "        new_list.append(city)\n",
    "    else:\n",
    "        new_list.append(city.upper())\n",
    "        \n",
    "new_list = [city if len(city)>7 else city.upper() for city in list_of_words]\n",
    "new_list"
   ]
  },
  {
   "cell_type": "code",
   "execution_count": 108,
   "id": "aee8b01e-40ab-4a22-9787-8ec9dc1e11fe",
   "metadata": {
    "id": "51d6105c-82b9-4fce-854e-9813e9fa0c6b"
   },
   "outputs": [
    {
     "name": "stdout",
     "output_type": "stream",
     "text": [
      "['barcelona', 'MADRID', 'GERONA', 'MURCIA', 'ROME']\n"
     ]
    },
    {
     "data": {
      "text/plain": [
       "['ROME']"
      ]
     },
     "execution_count": 108,
     "metadata": {},
     "output_type": "execute_result"
    }
   ],
   "source": [
    "new_list = [city if len(city)>7  else city.upper() for city in list_of_words]\n",
    "print(new_list)\n",
    "\n",
    "def process_city(city):\n",
    "    if len(city) > 7:\n",
    "        return city\n",
    "    else:\n",
    "        return city.upper()\n",
    "\n",
    "[process_city(city)]"
   ]
  },
  {
   "cell_type": "markdown",
   "id": "71209dc0-4ad9-46e8-b17d-1012e91018cd",
   "metadata": {
    "id": "71209dc0-4ad9-46e8-b17d-1012e91018cd"
   },
   "source": [
    "\n",
    "In the examples above, list comprehension filters and modifies elements based on specific conditions, creating a new list as a result. Using `if` and `else` in list comprehension adds flexibility to the process and allows for more complex transformations of the original list elements."
   ]
  },
  {
   "cell_type": "markdown",
   "id": "43e5bba4-6315-43d0-a904-6369c29ed147",
   "metadata": {
    "id": "43e5bba4-6315-43d0-a904-6369c29ed147",
    "lang": "en"
   },
   "source": [
    "# Dictionary Comprehension"
   ]
  },
  {
   "cell_type": "markdown",
   "id": "b29128c6-0134-4b09-b823-580ad4078320",
   "metadata": {
    "id": "b29128c6-0134-4b09-b823-580ad4078320"
   },
   "source": [
    "Just like list comprehension, dictionary comprehension offers a clean and efficient way to construct dictionaries in a single line of code.\n",
    "\n",
    "The general syntax for dictionary comprehension is:\n",
    "\n",
    "```python\n",
    "new_dict = {key_expression: value_expression for item in iterable}\n",
    "```"
   ]
  },
  {
   "cell_type": "code",
   "execution_count": 126,
   "id": "2ca6a9c3-9e8f-4aa5-bf04-199b728000fc",
   "metadata": {
    "id": "2ca6a9c3-9e8f-4aa5-bf04-199b728000fc"
   },
   "outputs": [
    {
     "data": {
      "text/plain": [
       "{'a': 2, 'b': 4, 'c': 6, 'd': 10}"
      ]
     },
     "execution_count": 126,
     "metadata": {},
     "output_type": "execute_result"
    }
   ],
   "source": [
    "dict_numbers = {\"a\" : 1, \"b\" : 2, \"c\" : 3, \"d\" : 5}\n",
    "dict_double = {}\n",
    "for key, value in dict_numbers.items():\n",
    "    dict_double[key] = value*2\n",
    "dict_double"
   ]
  },
  {
   "cell_type": "markdown",
   "id": "b266dda1-d306-42f7-8a0c-cd81aa1b448a",
   "metadata": {
    "id": "b266dda1-d306-42f7-8a0c-cd81aa1b448a"
   },
   "source": [
    "We can also use dictionary comprehension to create a dictionary from a list.\n",
    "\n",
    "Let's keep the values of the `numbers` list as the dictionary `keys`, and as the dictionary `values`, we want those numbers squared."
   ]
  },
  {
   "cell_type": "code",
   "execution_count": 130,
   "id": "101d16d7",
   "metadata": {
    "id": "101d16d7"
   },
   "outputs": [
    {
     "data": {
      "text/plain": [
       "{'a': 2, 'b': 4, 'c': 6, 'd': 10}"
      ]
     },
     "execution_count": 130,
     "metadata": {},
     "output_type": "execute_result"
    }
   ],
   "source": [
    "dict_double = {key:value *2 for key,value in dict_numbers.items()}\n",
    "dict_double"
   ]
  },
  {
   "cell_type": "code",
   "execution_count": 142,
   "id": "5f754ad4-8ae0-469b-ab6b-901b276fcf4b",
   "metadata": {
    "id": "101d16d7"
   },
   "outputs": [
    {
     "data": {
      "text/plain": [
       "{-1: 'negative', -32: 'negative', 3: 'positive', 5: 'positive'}"
      ]
     },
     "execution_count": 142,
     "metadata": {},
     "output_type": "execute_result"
    }
   ],
   "source": [
    "dict_2 = {\"a\" : -1, \"b\" : -32, \"c\" : 3, \"d\" : 5}\n",
    "\n",
    "new_dict = {value:(\"positive\" if value>=0 else \"negative\")for key,value in dict_2.items()}\n",
    "new_dict"
   ]
  },
  {
   "cell_type": "markdown",
   "id": "6e49f7d0-3d9b-4661-9bd7-edf7525cd292",
   "metadata": {
    "id": "6e49f7d0-3d9b-4661-9bd7-edf7525cd292",
    "lang": "en"
   },
   "source": [
    "## 💡 Check for understanding\n",
    "\n",
    "You have a list of words. Write a dictionary containing the length of each word."
   ]
  },
  {
   "cell_type": "code",
   "execution_count": 148,
   "id": "12333f41",
   "metadata": {
    "id": "12333f41"
   },
   "outputs": [
    {
     "data": {
      "text/plain": [
       "{'football': 8, 'climbing': 8, 'swimming': 8, 'golf': 4}"
      ]
     },
     "execution_count": 148,
     "metadata": {},
     "output_type": "execute_result"
    }
   ],
   "source": [
    "list_of_words = [\"football\" , \"climbing\", \"swimming\", \"golf\"]\n",
    "new_dict_2 = {word: len(word) for word in list_of_words}\n",
    "new_dict_2"
   ]
  },
  {
   "cell_type": "markdown",
   "id": "fd9c62ab-eda5-4aab-911b-b560db1af80f",
   "metadata": {
    "id": "fd9c62ab-eda5-4aab-911b-b560db1af80f"
   },
   "source": [
    "# Set Comprehension"
   ]
  },
  {
   "cell_type": "markdown",
   "id": "f05288d7-5645-4ad1-a55f-bb767582f9b0",
   "metadata": {
    "id": "f05288d7-5645-4ad1-a55f-bb767582f9b0"
   },
   "source": [
    "The syntax for set comprehension is quite similar to list comprehension:\n",
    "\n",
    "```python\n",
    "new_set = {expression for item in iterable}\n",
    "```"
   ]
  },
  {
   "cell_type": "code",
   "execution_count": null,
   "id": "romantic-tiffany",
   "metadata": {
    "id": "romantic-tiffany"
   },
   "outputs": [],
   "source": []
  },
  {
   "cell_type": "markdown",
   "id": "b388ae3d-a76d-4077-8486-6e06d6765838",
   "metadata": {
    "id": "b388ae3d-a76d-4077-8486-6e06d6765838",
    "lang": "en"
   },
   "source": [
    "## 💡 Check for understanding\n",
    "\n",
    "Use set comprehension to create a set with only unique country codes"
   ]
  },
  {
   "cell_type": "code",
   "execution_count": 195,
   "id": "inner-refund",
   "metadata": {
    "id": "inner-refund"
   },
   "outputs": [
    {
     "name": "stdout",
     "output_type": "stream",
     "text": [
      "{'ES': '98', 'EN': '88', 'FRA': '12', 'IT': '34', 'AR': '55'}\n",
      "{'es': '98', 'en': '88', 'fra': '12', 'it': '34', 'ar': '55'}\n"
     ]
    }
   ],
   "source": [
    "codes_countries = [\"es-91\", \"en-88\", \"fra-12\", \"it-33\", \"ar-55\", \"it-34\", \"es-98\"]\n",
    "\"es-91\".split(\"-\")\n",
    "unique_codes = {country.split(\"-\")[0].upper(): country.split(\"-\")[1] for country in codes_countries}\n",
    "print(unique_codes)\n",
    "\n",
    "unique_codes = {country.split(\"-\")[0].lower(): country.split(\"-\")[-1] for country in codes_countries}\n",
    "print(unique_codes)\n",
    "# how come that i can also use -1? "
   ]
  },
  {
   "cell_type": "code",
   "execution_count": 177,
   "id": "30bb8484",
   "metadata": {
    "id": "30bb8484"
   },
   "outputs": [
    {
     "data": {
      "text/plain": [
       "{'AR', 'EN', 'ES', 'FRA', 'IT'}"
      ]
     },
     "execution_count": 177,
     "metadata": {},
     "output_type": "execute_result"
    }
   ],
   "source": [
    "# goal = {'AR', 'EN', 'ES', 'FRA', 'IT'}\n",
    "codes_countries = [\"es-91\", \"en-88\", \"fra-12\", \"it-33\", \"ar-55\", \"it-34\", \"es-98\"]\n",
    "unique_codes = {code.split(\"-\")[0].upper() for code in codes_countries}\n",
    "unique_codes"
   ]
  },
  {
   "cell_type": "markdown",
   "id": "32925503-a999-4711-8842-b5c83789857d",
   "metadata": {
    "id": "32925503-a999-4711-8842-b5c83789857d"
   },
   "source": [
    "# Summary"
   ]
  },
  {
   "cell_type": "markdown",
   "id": "8b7cec96-24f0-4c9c-9b34-8f5993e7d421",
   "metadata": {
    "id": "8b7cec96-24f0-4c9c-9b34-8f5993e7d421"
   },
   "source": [
    "- Comprehensions provide a quicker, more comfortable, and readable way to create lists, sets, and dictionaries.\n",
    "- Saves us some steps compared to traditional for loops (create empty list, use append method)\n",
    "- It supports conditions, enabling us to filter or modify elements during the creation process.\n",
    "- If an `else` statement is included, the order changes, offering flexibility in handling different conditions."
   ]
  },
  {
   "cell_type": "markdown",
   "id": "f64cdf34-69ab-4c28-a92a-6080ecc63d00",
   "metadata": {
    "id": "f64cdf34-69ab-4c28-a92a-6080ecc63d00",
    "lang": "es"
   },
   "source": [
    "# Extra"
   ]
  },
  {
   "cell_type": "markdown",
   "id": "79557943-bf12-4f38-bdc2-b7cf4747e92d",
   "metadata": {
    "id": "79557943-bf12-4f38-bdc2-b7cf4747e92d"
   },
   "source": [
    "## Nested list comprehensions"
   ]
  },
  {
   "cell_type": "markdown",
   "id": "1c45b37a-5935-4b19-a8cf-409e1b593ca7",
   "metadata": {
    "id": "1c45b37a-5935-4b19-a8cf-409e1b593ca7"
   },
   "source": [
    "Nested list comprehensions in Python allow you to create lists of lists or perform more complex transformations with multiple levels of iteration. The syntax involves placing one or more list comprehensions inside another."
   ]
  },
  {
   "cell_type": "markdown",
   "id": "d29730b4-01f4-4adc-8a71-9c27f78bc070",
   "metadata": {
    "id": "d29730b4-01f4-4adc-8a71-9c27f78bc070"
   },
   "source": [
    "```python\n",
    "new_list = [[expression for item in inner_list] for inner_list in outer_list]\n",
    "```"
   ]
  },
  {
   "cell_type": "markdown",
   "id": "65409460-79a2-4604-a701-d660cf88170f",
   "metadata": {
    "id": "65409460-79a2-4604-a701-d660cf88170f"
   },
   "source": [
    "Example: Flattening a List of Lists"
   ]
  },
  {
   "cell_type": "code",
   "execution_count": 199,
   "id": "dd5dd8c7-aabf-475d-84c1-ca01cd2020c2",
   "metadata": {
    "id": "dd5dd8c7-aabf-475d-84c1-ca01cd2020c2"
   },
   "outputs": [],
   "source": [
    "list_of_lists = [[1, 2, 3], [4, 5], [6, 7, 8, 9]]\n",
    "flattened_list = []\n",
    "for sublist in list_of_lists:\n",
    "    for num in sublist:\n",
    "        flattened_list.append(num)"
   ]
  },
  {
   "cell_type": "code",
   "execution_count": 201,
   "id": "b3fb6970-d377-4365-aab7-99a65f9146a3",
   "metadata": {
    "id": "b3fb6970-d377-4365-aab7-99a65f9146a3"
   },
   "outputs": [
    {
     "name": "stdout",
     "output_type": "stream",
     "text": [
      "[1, 2, 3, 4, 5, 6, 7, 8, 9]\n"
     ]
    }
   ],
   "source": [
    "# Using nested list comprehension to flatten a list of lists\n",
    "flattened_list = [num for sublist in list_of_lists for num in sublist]\n",
    "print(flattened_list)"
   ]
  },
  {
   "cell_type": "markdown",
   "id": "6b103055-b3a7-4a00-aff4-649cabdb443a",
   "metadata": {
    "id": "6b103055-b3a7-4a00-aff4-649cabdb443a"
   },
   "source": [
    "Another example"
   ]
  },
  {
   "cell_type": "code",
   "execution_count": 211,
   "id": "91ab7124",
   "metadata": {
    "id": "91ab7124"
   },
   "outputs": [
    {
     "name": "stdout",
     "output_type": "stream",
     "text": [
      "['Peter', '18', 'Clara', '20', 'Megan', '35', 'Marc', '32']\n"
     ]
    },
    {
     "data": {
      "text/plain": [
       "[]"
      ]
     },
     "execution_count": 211,
     "metadata": {},
     "output_type": "execute_result"
    }
   ],
   "source": [
    "nested_comprehension = [[[\"Peter\", \"18\"], [\"Clara\", \"20\"]], [['Megan', '35']], [['Marc', '32']]]\n",
    "\n",
    "flattened = []\n",
    "\n",
    "for i in nested_comprehension:\n",
    "    for element in i:\n",
    "        for x in element:\n",
    "            flattened.append(x)\n",
    "\n",
    "print(flattened)\n",
    "#if the list is too big, we can start exploring through an index ?\n",
    "nested_comprehension[:0]"
   ]
  },
  {
   "cell_type": "code",
   "execution_count": null,
   "id": "a89c12a0",
   "metadata": {
    "id": "a89c12a0"
   },
   "outputs": [],
   "source": [
    "flattened_comp = [x for i in nested_comprehension for element in i for x in element]\n",
    "flattened_comp"
   ]
  },
  {
   "cell_type": "markdown",
   "id": "9f823b4b-8b6a-4c74-af3c-c46a60c87437",
   "metadata": {
    "id": "9f823b4b-8b6a-4c74-af3c-c46a60c87437"
   },
   "source": [
    "## Dict comprehension from two lists"
   ]
  },
  {
   "cell_type": "markdown",
   "id": "e0ac7032-bc56-40f6-8634-f05916f23840",
   "metadata": {
    "id": "e0ac7032-bc56-40f6-8634-f05916f23840",
    "lang": "en"
   },
   "source": [
    "We can also use dictionary comprehension to create a dictionary from two lists, one will be the `keys`and the other one the `values`."
   ]
  },
  {
   "cell_type": "code",
   "execution_count": 219,
   "id": "5e44b9c5",
   "metadata": {
    "id": "5e44b9c5"
   },
   "outputs": [],
   "source": [
    "names = [\"venice\", \"sam\", \"clara\"]\n",
    "ages = [\"32\", \"21\", \"15\", \"24\"]\n",
    "\n",
    "the_goal = {\"venice\": \"32\",\n",
    " \"sam\": \"21\",\n",
    " \"clara\":\"15\"\n",
    "}"
   ]
  },
  {
   "cell_type": "code",
   "execution_count": 223,
   "id": "tough-peeing",
   "metadata": {
    "id": "tough-peeing",
    "scrolled": true
   },
   "outputs": [
    {
     "data": {
      "text/plain": [
       "[('venice', '32'), ('sam', '21'), ('clara', '15')]"
      ]
     },
     "execution_count": 223,
     "metadata": {},
     "output_type": "execute_result"
    }
   ],
   "source": [
    "# using a for loop\n",
    "new_dictionary = {}\n",
    "\n",
    "list(zip(names, ages))\n",
    "# if in one list there is more elemnts, python will ignore the one that is not matching"
   ]
  },
  {
   "cell_type": "code",
   "execution_count": 227,
   "id": "3156db4d-92b0-41c1-a510-b2ae67908917",
   "metadata": {
    "id": "tough-peeing",
    "scrolled": true
   },
   "outputs": [
    {
     "name": "stdout",
     "output_type": "stream",
     "text": [
      "{'venice': '32', 'sam': '21', 'clara': '15'}\n"
     ]
    }
   ],
   "source": [
    "# using a for loop\n",
    "new_dictionary = {}\n",
    "\n",
    "for person, age in zip(names, ages): # I zipped two lists together\n",
    "    new_dictionary[person] = age # now i converted them to a dictionary\n",
    "    #print(f\"Person: {person}, emoji: {picture}\")\n",
    "print(new_dictionary)"
   ]
  },
  {
   "cell_type": "code",
   "execution_count": 229,
   "id": "constitutional-daughter",
   "metadata": {
    "id": "constitutional-daughter"
   },
   "outputs": [
    {
     "data": {
      "text/plain": [
       "{'venice': '32', 'sam': '21', 'clara': '15'}"
      ]
     },
     "execution_count": 229,
     "metadata": {},
     "output_type": "execute_result"
    }
   ],
   "source": [
    "new_dict = {person:age for person, age in zip(names, ages)}\n",
    "new_dict"
   ]
  },
  {
   "cell_type": "code",
   "execution_count": null,
   "id": "d1a09b58-abfd-4d5d-bc41-91c6295495da",
   "metadata": {},
   "outputs": [],
   "source": []
  }
 ],
 "metadata": {
  "colab": {
   "provenance": []
  },
  "kernelspec": {
   "display_name": "Python 3 (ipykernel)",
   "language": "python",
   "name": "python3"
  },
  "language_info": {
   "codemirror_mode": {
    "name": "ipython",
    "version": 3
   },
   "file_extension": ".py",
   "mimetype": "text/x-python",
   "name": "python",
   "nbconvert_exporter": "python",
   "pygments_lexer": "ipython3",
   "version": "3.12.4"
  },
  "toc": {
   "base_numbering": 1,
   "nav_menu": {},
   "number_sections": true,
   "sideBar": true,
   "skip_h1_title": false,
   "title_cell": "Table of Contents",
   "title_sidebar": "Contents",
   "toc_cell": true,
   "toc_position": {},
   "toc_section_display": true,
   "toc_window_display": true
  }
 },
 "nbformat": 4,
 "nbformat_minor": 5
}
