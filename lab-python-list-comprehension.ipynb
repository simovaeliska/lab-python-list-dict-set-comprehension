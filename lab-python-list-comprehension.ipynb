{
 "cells": [
  {
   "cell_type": "markdown",
   "id": "25d7736c-ba17-4aff-b6bb-66eba20fbf4e",
   "metadata": {},
   "source": [
    "# Lab | List, Dict and Set Comprehension"
   ]
  },
  {
   "cell_type": "markdown",
   "id": "7dd3cbde-675a-4b81-92c3-f728846dbe06",
   "metadata": {},
   "source": [
    "## Exercise: Managing Customer Orders Optimized with Comprehension"
   ]
  },
  {
   "cell_type": "markdown",
   "id": "5d500160-2fb7-4777-b5e4-09d45ebaf328",
   "metadata": {},
   "source": [
    "In the previous exercise, you developed a program to manage customer orders and inventory. Now, let's take it a step further and incorporate comprehension into your code.\n",
    "\n",
    "Follow the steps below to complete the exercise:\n",
    "\n",
    "1. Review your code from the previous exercise and identify areas where you can apply comprehension to simplify and streamline your code. \n",
    "\n",
    "    - *Hint: Apply it to initialize inventory, updating the inventory and printing the updated inventory.*\n",
    "    \n",
    "    - For example, in initializing the inventory, we could have:\n",
    "    \n",
    "        ```python\n",
    "        def initialize_inventory(products):\n",
    "            inventory = {product: int(input(f\"Enter the quantity of {product}s available: \")) for product in products}\n",
    "            return inventory\n",
    "\n",
    "        ```\n",
    "<br>\n",
    "    \n",
    "    \n",
    "2. Modify the function get_customer_orders so it prompts the user to enter the number of customer orders and gathers the product names using a loop and user input. Use comprehension.\n",
    "\n",
    "3. Add a new function to calculate the total price of the customer order. For each product in customer_orders, prompt the user to enter the price of that product. Use comprehension to calculate the total price. Note: assume that the user can only have 1 unit of each product.\n",
    "\n",
    "4. Modify the update_inventory function to remove the product from the inventory if its quantity becomes zero after fulfilling the customer orders. Use comprehension to filter out the products with a quantity of zero from the inventory.\n",
    "\n",
    "5. Print the total price of the customer order.\n",
    "\n",
    "Your code should produce output similar to the following:\n",
    "\n",
    "```python\n",
    "Enter the quantity of t-shirts available:  5\n",
    "Enter the quantity of mugs available:  4\n",
    "Enter the quantity of hats available:  3\n",
    "Enter the quantity of books available:  2\n",
    "Enter the quantity of keychains available:  1\n",
    "Enter the number of customer orders:  2\n",
    "Enter the name of a product that a customer wants to order:  hat\n",
    "Enter the name of a product that a customer wants to order:  keychain\n",
    "\n",
    "Order Statistics:\n",
    "Total Products Ordered: 2\n",
    "Percentage of Unique Products Ordered: 40.0\n",
    "\n",
    "Updated Inventory:\n",
    "t-shirt: 5\n",
    "mug: 4\n",
    "hat: 2\n",
    "book: 2\n",
    "Enter the price of keychain:  5\n",
    "Enter the price of hat:  10\n",
    "Total Price: 15.0\n",
    "\n",
    "```\n"
   ]
  },
  {
   "cell_type": "code",
   "execution_count": 134,
   "id": "cf8d4e45-f1ef-45ee-95f0-edc6f7c7cc79",
   "metadata": {},
   "outputs": [],
   "source": [
    "#1\n",
    "def initialize_inventory(product):\n",
    "    inventory = {product: int(input(f\"Enter the quantity of {product} avaialable: \")) for product in products}\n",
    "    return inventory\n",
    "\n",
    "def update_inventory(customer_orders, inventory):\n",
    "        if product not in inventory:\n",
    "            quantity = int(input(f\"{product} is a new product. Enter the quantity: \"))\n",
    "            inventory[product] = quantity\n",
    "    inventory = {key: value - 1 if value > 0 and key in customer_orders else value for key, value in inventory.items()}\n",
    "    return inventory\n",
    "\n",
    "def print_updated_inventory(inventory):\n",
    "    updated_inventory = [f\"Updated inventory: {key}, {value}\" for key,value in inventory.items()]\n",
    "    return updated_inventory"
   ]
  },
  {
   "cell_type": "code",
   "execution_count": 143,
   "id": "9e9e8ac6-8cdb-422a-8ecd-3140e9ecf22c",
   "metadata": {},
   "outputs": [],
   "source": [
    "#2 Modify the function get_customer_orders so it prompts the user to enter the number of \n",
    "# customer orders and gathers the product names using a loop and user input. Use comprehension.\n",
    "\n",
    "def get_customer_orders():\n",
    "    number_of_orders = (int(input(\"Enter the number of customer orders:\")))\n",
    "    customer_orders = [(input(f\"Enter the name of product {i + 1}: \"), int(input(f\"Enter the quantity of {i + 1}: \"))) for i in range(number_of_orders)]\n",
    "    return customer_orders\n"
   ]
  },
  {
   "cell_type": "code",
   "execution_count": 161,
   "id": "c8f749c7-7323-4370-bb2f-88ba549dfe6d",
   "metadata": {},
   "outputs": [],
   "source": [
    "#3 Add a new function to calculate the total price of the customer order. \n",
    "#For each product in customer_orders, prompt the user to enter the price of that product. \n",
    "#Use comprehension to calculate the total price. \n",
    "# Note: assume that the user can only have 1 unit of each product.\n",
    "\n",
    "def calculate_total(customer_orders):\n",
    "    prices = [int(input(f\"Enter the price of the {product}: \")) for product in customer_orders]\n",
    "    total_price = sum(prices)\n",
    "    return f\"Total price: {total_price} €\""
   ]
  },
  {
   "cell_type": "code",
   "execution_count": 165,
   "id": "0e247591-9d1f-429b-9d69-10589a4b5a43",
   "metadata": {},
   "outputs": [],
   "source": [
    "#4 Modify the update_inventory function to remove the product from the inventory if its quantity becomes zero \n",
    "#after fulfilling the customer orders. Use comprehension to filter out the products with a quantity of zero\n",
    "#from the inventory.\n",
    "\n",
    "def updated_inventory(customer_orders, inventory):\n",
    "    #def zero_products(inventory):\n",
    "    #for key in list(inventory.keys()):\n",
    "    #    if inventory[key] == 0:\n",
    "    #       del inventory[key]\n",
    "    #return inventory\n",
    "    zero_products = [{key: value for key, value in inventory.items() if value > 0}]\n",
    "    return zero_products "
   ]
  },
  {
   "cell_type": "code",
   "execution_count": 138,
   "id": "56b56156-0093-42b3-8442-3be5de94cd77",
   "metadata": {},
   "outputs": [
    {
     "name": "stdin",
     "output_type": "stream",
     "text": [
      "Enter the quantity of hat avaialable:  20\n",
      "Enter the quantity of book avaialable:  100\n",
      "Enter the quantity of chain avaialable:  33\n"
     ]
    }
   ],
   "source": [
    "products = [\"hat\", \"book\", \"chain\"]\n",
    "inventory = initialize_inventory(products)"
   ]
  },
  {
   "cell_type": "code",
   "execution_count": 147,
   "id": "5a0b4aed-040f-49b1-aa95-bbfb693072b8",
   "metadata": {},
   "outputs": [
    {
     "name": "stdin",
     "output_type": "stream",
     "text": [
      "Enter the number of customer orders: 2\n",
      "Enter the name of product 1:  hat\n",
      "Enter the quantity of 1:  2\n",
      "Enter the name of product 2:  hoodie\n",
      "Enter the quantity of 2:  3\n"
     ]
    },
    {
     "data": {
      "text/plain": [
       "[('hat', 2), ('hoodie', 3)]"
      ]
     },
     "execution_count": 147,
     "metadata": {},
     "output_type": "execute_result"
    }
   ],
   "source": [
    "get_customer_orders()"
   ]
  },
  {
   "cell_type": "code",
   "execution_count": 163,
   "id": "9a471cf9-fb21-4640-a47c-61c73e97ad37",
   "metadata": {},
   "outputs": [
    {
     "name": "stdin",
     "output_type": "stream",
     "text": [
      "Enter the number of customer orders: 2\n",
      "Enter the name of product 1:  hat\n",
      "Enter the quantity of 1:  2\n",
      "Enter the name of product 2:  hoodie\n",
      "Enter the quantity of 2:  4\n",
      "Enter the price of the ('hat', 2):  10\n",
      "Enter the price of the ('hoodie', 4):  13\n"
     ]
    },
    {
     "data": {
      "text/plain": [
       "'Total price: 23 €'"
      ]
     },
     "execution_count": 163,
     "metadata": {},
     "output_type": "execute_result"
    }
   ],
   "source": [
    "customer_orders = get_customer_orders()\n",
    "calculate_total(customer_orders)"
   ]
  },
  {
   "cell_type": "code",
   "execution_count": 171,
   "id": "c4462812-3c6d-4dff-ab91-95ef05f0d73a",
   "metadata": {},
   "outputs": [
    {
     "data": {
      "text/plain": [
       "[{'hat': 20, 'book': 100, 'chain': 33}]"
      ]
     },
     "execution_count": 171,
     "metadata": {},
     "output_type": "execute_result"
    }
   ],
   "source": [
    "updated_inventory(customer_orders, inventory)"
   ]
  },
  {
   "cell_type": "code",
   "execution_count": null,
   "id": "a3fbce19-245d-4a84-8c76-24176d77ccfa",
   "metadata": {},
   "outputs": [],
   "source": []
  }
 ],
 "metadata": {
  "kernelspec": {
   "display_name": "Python 3 (ipykernel)",
   "language": "python",
   "name": "python3"
  },
  "language_info": {
   "codemirror_mode": {
    "name": "ipython",
    "version": 3
   },
   "file_extension": ".py",
   "mimetype": "text/x-python",
   "name": "python",
   "nbconvert_exporter": "python",
   "pygments_lexer": "ipython3",
   "version": "3.12.4"
  }
 },
 "nbformat": 4,
 "nbformat_minor": 5
}
